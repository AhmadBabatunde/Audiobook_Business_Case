{
 "cells": [
  {
   "cell_type": "code",
   "execution_count": 1,
   "id": "86a482f0-3957-4cec-a3b5-5711e6ff1fd8",
   "metadata": {},
   "outputs": [
    {
     "name": "stdout",
     "output_type": "stream",
     "text": [
      "WARNING:tensorflow:From C:\\Users\\pc\\.conda\\envs\\TF\\Lib\\site-packages\\keras\\src\\losses.py:2976: The name tf.losses.sparse_softmax_cross_entropy is deprecated. Please use tf.compat.v1.losses.sparse_softmax_cross_entropy instead.\n",
      "\n"
     ]
    }
   ],
   "source": [
    "import numpy as np\n",
    "import tensorflow as tf"
   ]
  },
  {
   "cell_type": "code",
   "execution_count": 28,
   "id": "147aa459-18e4-4444-873f-70c409aea043",
   "metadata": {},
   "outputs": [],
   "source": [
    "npz = np.load('Audiobooks_data_train.npz')\n",
    "train_inputs = npz['inputs'].astype(np.float64)\n",
    "train_targets = npz['target'].astype(np.int64)\n",
    "\n",
    "npz = np.load('Audiobooks_data_val.npz')\n",
    "val_inputs = npz['inputs'].astype(np.float64)\n",
    "val_targets = npz['target'].astype(np.int64)\n",
    "\n",
    "npz = np.load('Audiobooks_data_test.npz')\n",
    "test_inputs = npz['inputs'].astype(np.float64)\n",
    "test_targets = npz['target'].astype(np.int64)"
   ]
  },
  {
   "cell_type": "code",
   "execution_count": 31,
   "id": "0031f9e8-9a6f-42e4-a77a-79458db9ae19",
   "metadata": {},
   "outputs": [],
   "source": [
    "input_size = 10\n",
    "output_size = 2\n",
    "hidden_layer_size = 50\n",
    "early_stopping = tf.keras.callbacks.EarlyStopping()\n",
    "model = tf.keras.Sequential([\n",
    "                             tf.keras.layers.Dense(hidden_layer_size, activation='relu'),\n",
    "                             tf.keras.layers.Dense(hidden_layer_size, activation='relu'),\n",
    "                             tf.keras.layers.Dense(output_size, activation='softmax')\n",
    "                             ])\n",
    "\n",
    "model.compile(optimizer = 'adam', loss = 'sparse_categorical_crossentropy', metrics=['accuracy'])\n",
    "\n",
    "batchsize = 100\n",
    "max_epoch = 100"
   ]
  },
  {
   "cell_type": "code",
   "execution_count": 32,
   "id": "1013fc19-5c3e-40d4-9a3e-93db549f94b3",
   "metadata": {},
   "outputs": [
    {
     "name": "stdout",
     "output_type": "stream",
     "text": [
      "Epoch 1/100\n",
      "36/36 - 2s - loss: 0.6254 - accuracy: 0.6804 - val_loss: 0.5377 - val_accuracy: 0.7248 - 2s/epoch - 47ms/step\n",
      "Epoch 2/100\n",
      "36/36 - 0s - loss: 0.4860 - accuracy: 0.7561 - val_loss: 0.4499 - val_accuracy: 0.7696 - 124ms/epoch - 3ms/step\n",
      "Epoch 3/100\n",
      "36/36 - 0s - loss: 0.4245 - accuracy: 0.7804 - val_loss: 0.4192 - val_accuracy: 0.7763 - 114ms/epoch - 3ms/step\n",
      "Epoch 4/100\n",
      "36/36 - 0s - loss: 0.3971 - accuracy: 0.7932 - val_loss: 0.3918 - val_accuracy: 0.7852 - 123ms/epoch - 3ms/step\n",
      "Epoch 5/100\n",
      "36/36 - 0s - loss: 0.3810 - accuracy: 0.7958 - val_loss: 0.3964 - val_accuracy: 0.7740 - 117ms/epoch - 3ms/step\n"
     ]
    },
    {
     "data": {
      "text/plain": [
       "<keras.src.callbacks.History at 0x2e54058ca50>"
      ]
     },
     "execution_count": 32,
     "metadata": {},
     "output_type": "execute_result"
    }
   ],
   "source": [
    "model.fit(train_inputs, train_targets,\n",
    "          batch_size = batchsize,\n",
    "          epochs = max_epoch,\n",
    "          callbacks = [early_stopping],\n",
    "          validation_data = (val_inputs, val_targets),\n",
    "          verbose=2)\n",
    "       "
   ]
  },
  {
   "cell_type": "code",
   "execution_count": null,
   "id": "6774116f-7158-47ef-b05f-2565a8810c76",
   "metadata": {},
   "outputs": [],
   "source": []
  }
 ],
 "metadata": {
  "kernelspec": {
   "display_name": "Python 3 (ipykernel)",
   "language": "python",
   "name": "python3"
  },
  "language_info": {
   "codemirror_mode": {
    "name": "ipython",
    "version": 3
   },
   "file_extension": ".py",
   "mimetype": "text/x-python",
   "name": "python",
   "nbconvert_exporter": "python",
   "pygments_lexer": "ipython3",
   "version": "3.11.7"
  }
 },
 "nbformat": 4,
 "nbformat_minor": 5
}
