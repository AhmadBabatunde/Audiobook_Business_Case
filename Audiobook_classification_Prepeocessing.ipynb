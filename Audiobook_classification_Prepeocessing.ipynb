{
 "cells": [
  {
   "cell_type": "code",
   "execution_count": 17,
   "id": "3fbcd94e-b3d2-46d0-83aa-1a34293b6613",
   "metadata": {},
   "outputs": [],
   "source": [
    "import numpy as np\n",
    "import tensorflow as tf\n",
    "from sklearn import preprocessing"
   ]
  },
  {
   "cell_type": "code",
   "execution_count": 18,
   "id": "a6c4b06d-e0f1-4feb-b89d-d7d7f3e1690c",
   "metadata": {},
   "outputs": [],
   "source": [
    "raw_data = np.loadtxt('Audiobooks_data.csv', delimiter=',')\n",
    "unscaled_input = raw_data[:,1:-1]\n",
    "target = raw_data[:,-1]"
   ]
  },
  {
   "cell_type": "markdown",
   "id": "bbda7465-d538-4a4e-b609-5da038e72fcd",
   "metadata": {},
   "source": [
    "## Balancing The data"
   ]
  },
  {
   "cell_type": "code",
   "execution_count": 19,
   "id": "717459d1-e522-4ecd-b2d0-dbdb4ea575ca",
   "metadata": {},
   "outputs": [],
   "source": [
    "num_one = int(np.sum(target))\n",
    "zero_target_counter = 0\n",
    "indices_to_remove = []\n",
    "\n",
    "for i in range(target.shape[0]):\n",
    "    if target[i] == 0:\n",
    "        zero_target_counter += 1\n",
    "        if zero_target_counter > num_one:\n",
    "            indices_to_remove.append(i)\n",
    "\n",
    "unscaled_input_equal = np.delete(unscaled_input, indices_to_remove, axis=0)\n",
    "target_equal = np.delete(target, indices_to_remove, axis=0)\n"
   ]
  },
  {
   "cell_type": "markdown",
   "id": "f3eee4c0-f826-48ff-a993-c7a127e3afdf",
   "metadata": {},
   "source": [
    "## Standardize The Inputs"
   ]
  },
  {
   "cell_type": "code",
   "execution_count": 20,
   "id": "317c2644-e9db-4b6b-82f8-08a45d211330",
   "metadata": {},
   "outputs": [],
   "source": [
    "scaled_input = preprocessing.scale(unscaled_input_equal)"
   ]
  },
  {
   "cell_type": "markdown",
   "id": "47778f2d-3f8c-4878-88bb-085f172f6a3e",
   "metadata": {},
   "source": [
    "## Shuffling Inputs And Targets"
   ]
  },
  {
   "cell_type": "code",
   "execution_count": 21,
   "id": "89e6d262-7d2d-4e50-ad16-87d653dbbcc6",
   "metadata": {},
   "outputs": [],
   "source": [
    "shuffle = np.arange(scaled_input.shape[0])\n",
    "np.random.shuffle(shuffle)\n",
    "\n",
    "shuffle_input = scaled_input[shuffle]\n",
    "shuffle_target = target_equal[shuffle]"
   ]
  },
  {
   "cell_type": "markdown",
   "id": "2e273f8b-9854-4605-b591-20f08db3fd2a",
   "metadata": {},
   "source": [
    "## Split to TRAIN, VALIDATION, TEST Dataset"
   ]
  },
  {
   "cell_type": "code",
   "execution_count": 22,
   "id": "40ba7808-da50-4230-b378-fe79edf3dbae",
   "metadata": {},
   "outputs": [
    {
     "name": "stdout",
     "output_type": "stream",
     "text": [
      "1805.0 3579 0.5043308186644314\n",
      "225.0 448 0.5022321428571429\n"
     ]
    }
   ],
   "source": [
    "sample_count = shuffle_input.shape[0]\n",
    "\n",
    "train_sample = int(0.8 * sample_count)\n",
    "val_sample = int(0.1 * sample_count)\n",
    "test_sample = sample_count - train_sample - val_sample\n",
    "\n",
    "train_input = shuffle_input[:train_sample]\n",
    "train_target = shuffle_target[:train_sample]\n",
    "\n",
    "val_input = shuffle_input[train_sample:train_sample + val_sample]\n",
    "val_target = shuffle_target[train_sample:train_sample + val_sample]\n",
    "\n",
    "test_input = shuffle_input[train_sample + val_sample:]\n",
    "test_target = shuffle_target[train_sample + val_sample:]\n",
    "print(np.sum(train_target), train_sample, np.sum(train_target)/train_sample)\n",
    "print(np.sum(test_target), test_sample, np.sum(test_target)/test_sample)"
   ]
  },
  {
   "cell_type": "markdown",
   "id": "07db62fb-31f3-4d91-a885-2b8ec3319465",
   "metadata": {},
   "source": [
    "## saves the dataset to npz"
   ]
  },
  {
   "cell_type": "code",
   "execution_count": 25,
   "id": "ed288287-a4ef-46d4-a154-b432781406ee",
   "metadata": {},
   "outputs": [
    {
     "name": "stdout",
     "output_type": "stream",
     "text": [
      "WARNING:tensorflow:From C:\\Users\\pc\\.conda\\envs\\TF\\Lib\\site-packages\\keras\\src\\backend.py:873: The name tf.get_default_graph is deprecated. Please use tf.compat.v1.get_default_graph instead.\n",
      "\n",
      "WARNING:tensorflow:From C:\\Users\\pc\\.conda\\envs\\TF\\Lib\\site-packages\\keras\\src\\optimizers\\__init__.py:309: The name tf.train.Optimizer is deprecated. Please use tf.compat.v1.train.Optimizer instead.\n",
      "\n"
     ]
    }
   ],
   "source": [
    "input_size = 10\n",
    "output_size = 2\n",
    "hidden_layer_size = 50\n",
    "early_stopping = tf.keras.callbacks.EarlyStopping()\n",
    "model = tf.keras.Sequential([\n",
    "                             tf.keras.layers.Dense(hidden_layer_size, activation='relu'),\n",
    "                             tf.keras.layers.Dense(hidden_layer_size, activation='relu'),\n",
    "                             tf.keras.layers.Dense(output_size, activation='softmax')\n",
    "                             ])\n",
    "\n",
    "model.compile(optimizer = 'adam', loss = 'sparse_categorical_crossentropy', metrics=['accuracy'])\n",
    "\n",
    "batchsize = 100\n",
    "max_epoch = 100"
   ]
  },
  {
   "cell_type": "code",
   "execution_count": 26,
   "id": "9fc9bb33-ca28-49ff-8b50-56a1e19953de",
   "metadata": {},
   "outputs": [
    {
     "name": "stdout",
     "output_type": "stream",
     "text": [
      "Epoch 1/100\n",
      "WARNING:tensorflow:From C:\\Users\\pc\\.conda\\envs\\TF\\Lib\\site-packages\\keras\\src\\utils\\tf_utils.py:492: The name tf.ragged.RaggedTensorValue is deprecated. Please use tf.compat.v1.ragged.RaggedTensorValue instead.\n",
      "\n",
      "WARNING:tensorflow:From C:\\Users\\pc\\.conda\\envs\\TF\\Lib\\site-packages\\keras\\src\\engine\\base_layer_utils.py:384: The name tf.executing_eagerly_outside_functions is deprecated. Please use tf.compat.v1.executing_eagerly_outside_functions instead.\n",
      "\n",
      "36/36 - 13s - loss: 0.6421 - accuracy: 0.6194 - val_loss: 0.5586 - val_accuracy: 0.7047 - 13s/epoch - 372ms/step\n",
      "Epoch 2/100\n",
      "36/36 - 0s - loss: 0.5024 - accuracy: 0.7443 - val_loss: 0.4699 - val_accuracy: 0.7494 - 142ms/epoch - 4ms/step\n",
      "Epoch 3/100\n",
      "36/36 - 0s - loss: 0.4346 - accuracy: 0.7737 - val_loss: 0.4317 - val_accuracy: 0.7718 - 118ms/epoch - 3ms/step\n",
      "Epoch 4/100\n",
      "36/36 - 0s - loss: 0.4014 - accuracy: 0.7921 - val_loss: 0.4108 - val_accuracy: 0.7830 - 129ms/epoch - 4ms/step\n",
      "Epoch 5/100\n",
      "36/36 - 0s - loss: 0.3830 - accuracy: 0.8008 - val_loss: 0.3882 - val_accuracy: 0.7785 - 131ms/epoch - 4ms/step\n",
      "Epoch 6/100\n",
      "36/36 - 0s - loss: 0.3711 - accuracy: 0.8030 - val_loss: 0.3772 - val_accuracy: 0.7897 - 156ms/epoch - 4ms/step\n",
      "Epoch 7/100\n",
      "36/36 - 0s - loss: 0.3602 - accuracy: 0.8089 - val_loss: 0.3736 - val_accuracy: 0.7875 - 124ms/epoch - 3ms/step\n",
      "Epoch 8/100\n",
      "36/36 - 0s - loss: 0.3543 - accuracy: 0.8108 - val_loss: 0.3802 - val_accuracy: 0.7897 - 120ms/epoch - 3ms/step\n"
     ]
    },
    {
     "data": {
      "text/plain": [
       "<keras.src.callbacks.History at 0x25cae19e990>"
      ]
     },
     "execution_count": 26,
     "metadata": {},
     "output_type": "execute_result"
    }
   ],
   "source": [
    "model.fit(train_input, train_target,\n",
    "          batch_size = batchsize,\n",
    "          epochs = max_epoch,\n",
    "          callbacks = [early_stopping],\n",
    "          validation_data = (val_input, val_target),\n",
    "          verbose=2)\n",
    "       "
   ]
  },
  {
   "cell_type": "code",
   "execution_count": 28,
   "id": "565d8b5c-008e-4bc9-b0cb-e92090c1169f",
   "metadata": {},
   "outputs": [
    {
     "name": "stdout",
     "output_type": "stream",
     "text": [
      "14/14 [==============================] - 0s 5ms/step - loss: 0.3488 - accuracy: 0.8214\n"
     ]
    }
   ],
   "source": [
    "test_loss, test_accuracy = model.evaluate(test_input, test_target)"
   ]
  },
  {
   "cell_type": "code",
   "execution_count": 30,
   "id": "94bce61d-02f4-400c-83c9-3cef9ea12097",
   "metadata": {},
   "outputs": [
    {
     "name": "stdout",
     "output_type": "stream",
     "text": [
      "Test loss: 0.35. Test accuracy: 0.82\n"
     ]
    }
   ],
   "source": [
    "print(f\"Test loss: {test_loss:.2f}. Test accuracy: {test_accuracy:.2f}\")"
   ]
  },
  {
   "cell_type": "code",
   "execution_count": null,
   "id": "84d730f6-b19f-4816-a861-c9293d219eb9",
   "metadata": {},
   "outputs": [],
   "source": []
  }
 ],
 "metadata": {
  "kernelspec": {
   "display_name": "Python 3 (ipykernel)",
   "language": "python",
   "name": "python3"
  },
  "language_info": {
   "codemirror_mode": {
    "name": "ipython",
    "version": 3
   },
   "file_extension": ".py",
   "mimetype": "text/x-python",
   "name": "python",
   "nbconvert_exporter": "python",
   "pygments_lexer": "ipython3",
   "version": "3.11.7"
  }
 },
 "nbformat": 4,
 "nbformat_minor": 5
}
